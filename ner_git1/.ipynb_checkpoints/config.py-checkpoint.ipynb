{
 "cells": [
  {
   "cell_type": "code",
   "execution_count": 1,
   "metadata": {},
   "outputs": [],
   "source": [
    "import os\n",
    "\n",
    "class DefaultConfig():\n",
    "    ###     Path     ###\n",
    "    #   graph Path\n",
    "    output_path = \"results/\"\n",
    "    model_output = output_path + \"model.weights/\"\n",
    "    log_path = output_path + \"logs/\"\n",
    "    # preprocessed Data path\n",
    "    test_filename = \"data/test_data\"\n",
    "    train_filename = \"data/train_data\"\n",
    "    #word2vec_filename = \"data/wikipedia-200-mincount-20-window-8-cbow.bin\"\n",
    "    word2vec_filename = \"data/wikipedia-100-mincount-30-window-8-cbow.bin\"\n",
    "    # preprocessed Data file names\n",
    "    tags_filename = \"data/tags.txt\"\n",
    "    words_filename = \"data/words.txt\"\n",
    "    chars_filename = \"data/chars.txt\"\n",
    "    # preprocessed data variables\n",
    "    UNK = \"$UNK$\"\n",
    "    NUM = \"$NUM$\"\n",
    "    NONE = \"O\"\n",
    "\n",
    "    ###  Hyper parameters    ###\n",
    "    BATCH_SIZE = 40\n",
    "    MAX_LENGTH_WORD = 50\n",
    "    N_EPOCHS = 50\n",
    "    LR = 0.001\n",
    "    LR_DECAY = 0.95\n",
    "    DROPOUT = 0.5\n",
    "    # Char Embedding (CNN)\n",
    "    CHAR_EMB_DIM = 120\n",
    "    FILTER_SIZE = [2, 3, 4, 5]\n",
    "    N_FILTERS = 128\n",
    "    # BiLSTM\n",
    "    HIDDEN_SIZE = 400\n",
    "\n",
    "    ### Tensorflow op   ###\n",
    "    NUM_THREADS = 4\n"
   ]
  },
  {
   "cell_type": "code",
   "execution_count": null,
   "metadata": {},
   "outputs": [],
   "source": []
  }
 ],
 "metadata": {
  "kernelspec": {
   "display_name": "Python 3",
   "language": "python",
   "name": "python3"
  },
  "language_info": {
   "codemirror_mode": {
    "name": "ipython",
    "version": 3
   },
   "file_extension": ".py",
   "mimetype": "text/x-python",
   "name": "python",
   "nbconvert_exporter": "python",
   "pygments_lexer": "ipython3",
   "version": "3.7.3"
  }
 },
 "nbformat": 4,
 "nbformat_minor": 2
}
